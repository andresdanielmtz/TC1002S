{
 "cells": [
  {
   "cell_type": "markdown",
   "metadata": {},
   "source": [
    "> Andrés Daniel Martínez Bermúdez\n",
    "\n",
    "> A00227463"
   ]
  },
  {
   "cell_type": "code",
   "execution_count": 7,
   "metadata": {
    "dotnet_interactive": {
     "language": "csharp"
    },
    "polyglot_notebook": {
     "kernelName": "csharp"
    }
   },
   "outputs": [
    {
     "name": "stdout",
     "output_type": "stream",
     "text": [
      "Requirement already satisfied: scikit-learn in /Library/Frameworks/Python.framework/Versions/3.10/lib/python3.10/site-packages (1.5.1)\n",
      "Requirement already satisfied: numpy>=1.19.5 in /Library/Frameworks/Python.framework/Versions/3.10/lib/python3.10/site-packages (from scikit-learn) (1.23.5)\n",
      "Requirement already satisfied: scipy>=1.6.0 in /Library/Frameworks/Python.framework/Versions/3.10/lib/python3.10/site-packages (from scikit-learn) (1.14.1)\n",
      "Requirement already satisfied: joblib>=1.2.0 in /Library/Frameworks/Python.framework/Versions/3.10/lib/python3.10/site-packages (from scikit-learn) (1.4.2)\n",
      "Requirement already satisfied: threadpoolctl>=3.1.0 in /Library/Frameworks/Python.framework/Versions/3.10/lib/python3.10/site-packages (from scikit-learn) (3.5.0)\n",
      "\n",
      "\u001b[1m[\u001b[0m\u001b[34;49mnotice\u001b[0m\u001b[1;39;49m]\u001b[0m\u001b[39;49m A new release of pip is available: \u001b[0m\u001b[31;49m23.2.1\u001b[0m\u001b[39;49m -> \u001b[0m\u001b[32;49m24.2\u001b[0m\n",
      "\u001b[1m[\u001b[0m\u001b[34;49mnotice\u001b[0m\u001b[1;39;49m]\u001b[0m\u001b[39;49m To update, run: \u001b[0m\u001b[32;49mpip3 install --upgrade pip\u001b[0m\n",
      "Note: you may need to restart the kernel to use updated packages.\n",
      "Requirement already satisfied: pandas in /Library/Frameworks/Python.framework/Versions/3.10/lib/python3.10/site-packages (2.2.2)\n",
      "Requirement already satisfied: numpy>=1.22.4 in /Library/Frameworks/Python.framework/Versions/3.10/lib/python3.10/site-packages (from pandas) (1.23.5)\n",
      "Requirement already satisfied: python-dateutil>=2.8.2 in /Library/Frameworks/Python.framework/Versions/3.10/lib/python3.10/site-packages (from pandas) (2.8.2)\n",
      "Requirement already satisfied: pytz>=2020.1 in /Library/Frameworks/Python.framework/Versions/3.10/lib/python3.10/site-packages (from pandas) (2022.2.1)\n",
      "Requirement already satisfied: tzdata>=2022.7 in /Library/Frameworks/Python.framework/Versions/3.10/lib/python3.10/site-packages (from pandas) (2024.1)\n",
      "Requirement already satisfied: six>=1.5 in /Library/Frameworks/Python.framework/Versions/3.10/lib/python3.10/site-packages (from python-dateutil>=2.8.2->pandas) (1.16.0)\n",
      "\n",
      "\u001b[1m[\u001b[0m\u001b[34;49mnotice\u001b[0m\u001b[1;39;49m]\u001b[0m\u001b[39;49m A new release of pip is available: \u001b[0m\u001b[31;49m23.2.1\u001b[0m\u001b[39;49m -> \u001b[0m\u001b[32;49m24.2\u001b[0m\n",
      "\u001b[1m[\u001b[0m\u001b[34;49mnotice\u001b[0m\u001b[1;39;49m]\u001b[0m\u001b[39;49m To update, run: \u001b[0m\u001b[32;49mpip3 install --upgrade pip\u001b[0m\n",
      "Note: you may need to restart the kernel to use updated packages.\n",
      "Requirement already satisfied: seaborn in /Library/Frameworks/Python.framework/Versions/3.10/lib/python3.10/site-packages (0.13.2)\n",
      "Requirement already satisfied: numpy!=1.24.0,>=1.20 in /Library/Frameworks/Python.framework/Versions/3.10/lib/python3.10/site-packages (from seaborn) (1.23.5)\n",
      "Requirement already satisfied: pandas>=1.2 in /Library/Frameworks/Python.framework/Versions/3.10/lib/python3.10/site-packages (from seaborn) (2.2.2)\n",
      "Requirement already satisfied: matplotlib!=3.6.1,>=3.4 in /Library/Frameworks/Python.framework/Versions/3.10/lib/python3.10/site-packages (from seaborn) (3.6.2)\n",
      "Requirement already satisfied: contourpy>=1.0.1 in /Library/Frameworks/Python.framework/Versions/3.10/lib/python3.10/site-packages (from matplotlib!=3.6.1,>=3.4->seaborn) (1.0.4)\n",
      "Requirement already satisfied: cycler>=0.10 in /Library/Frameworks/Python.framework/Versions/3.10/lib/python3.10/site-packages (from matplotlib!=3.6.1,>=3.4->seaborn) (0.11.0)\n",
      "Requirement already satisfied: fonttools>=4.22.0 in /Library/Frameworks/Python.framework/Versions/3.10/lib/python3.10/site-packages (from matplotlib!=3.6.1,>=3.4->seaborn) (4.37.1)\n",
      "Requirement already satisfied: kiwisolver>=1.0.1 in /Library/Frameworks/Python.framework/Versions/3.10/lib/python3.10/site-packages (from matplotlib!=3.6.1,>=3.4->seaborn) (1.4.4)\n",
      "Requirement already satisfied: packaging>=20.0 in /Library/Frameworks/Python.framework/Versions/3.10/lib/python3.10/site-packages (from matplotlib!=3.6.1,>=3.4->seaborn) (21.3)\n",
      "Requirement already satisfied: pillow>=6.2.0 in /Library/Frameworks/Python.framework/Versions/3.10/lib/python3.10/site-packages (from matplotlib!=3.6.1,>=3.4->seaborn) (9.2.0)\n",
      "Requirement already satisfied: pyparsing>=2.2.1 in /Library/Frameworks/Python.framework/Versions/3.10/lib/python3.10/site-packages (from matplotlib!=3.6.1,>=3.4->seaborn) (3.0.8)\n",
      "Requirement already satisfied: python-dateutil>=2.7 in /Library/Frameworks/Python.framework/Versions/3.10/lib/python3.10/site-packages (from matplotlib!=3.6.1,>=3.4->seaborn) (2.8.2)\n",
      "Requirement already satisfied: pytz>=2020.1 in /Library/Frameworks/Python.framework/Versions/3.10/lib/python3.10/site-packages (from pandas>=1.2->seaborn) (2022.2.1)\n",
      "Requirement already satisfied: tzdata>=2022.7 in /Library/Frameworks/Python.framework/Versions/3.10/lib/python3.10/site-packages (from pandas>=1.2->seaborn) (2024.1)\n",
      "Requirement already satisfied: six>=1.5 in /Library/Frameworks/Python.framework/Versions/3.10/lib/python3.10/site-packages (from python-dateutil>=2.7->matplotlib!=3.6.1,>=3.4->seaborn) (1.16.0)\n",
      "\n",
      "\u001b[1m[\u001b[0m\u001b[34;49mnotice\u001b[0m\u001b[1;39;49m]\u001b[0m\u001b[39;49m A new release of pip is available: \u001b[0m\u001b[31;49m23.2.1\u001b[0m\u001b[39;49m -> \u001b[0m\u001b[32;49m24.2\u001b[0m\n",
      "\u001b[1m[\u001b[0m\u001b[34;49mnotice\u001b[0m\u001b[1;39;49m]\u001b[0m\u001b[39;49m To update, run: \u001b[0m\u001b[32;49mpip3 install --upgrade pip\u001b[0m\n",
      "Note: you may need to restart the kernel to use updated packages.\n",
      "Requirement already satisfied: matplotlib in /Library/Frameworks/Python.framework/Versions/3.10/lib/python3.10/site-packages (3.6.2)\n",
      "Requirement already satisfied: contourpy>=1.0.1 in /Library/Frameworks/Python.framework/Versions/3.10/lib/python3.10/site-packages (from matplotlib) (1.0.4)\n",
      "Requirement already satisfied: cycler>=0.10 in /Library/Frameworks/Python.framework/Versions/3.10/lib/python3.10/site-packages (from matplotlib) (0.11.0)\n",
      "Requirement already satisfied: fonttools>=4.22.0 in /Library/Frameworks/Python.framework/Versions/3.10/lib/python3.10/site-packages (from matplotlib) (4.37.1)\n",
      "Requirement already satisfied: kiwisolver>=1.0.1 in /Library/Frameworks/Python.framework/Versions/3.10/lib/python3.10/site-packages (from matplotlib) (1.4.4)\n",
      "Requirement already satisfied: numpy>=1.19 in /Library/Frameworks/Python.framework/Versions/3.10/lib/python3.10/site-packages (from matplotlib) (1.23.5)\n",
      "Requirement already satisfied: packaging>=20.0 in /Library/Frameworks/Python.framework/Versions/3.10/lib/python3.10/site-packages (from matplotlib) (21.3)\n",
      "Requirement already satisfied: pillow>=6.2.0 in /Library/Frameworks/Python.framework/Versions/3.10/lib/python3.10/site-packages (from matplotlib) (9.2.0)\n",
      "Requirement already satisfied: pyparsing>=2.2.1 in /Library/Frameworks/Python.framework/Versions/3.10/lib/python3.10/site-packages (from matplotlib) (3.0.8)\n",
      "Requirement already satisfied: python-dateutil>=2.7 in /Library/Frameworks/Python.framework/Versions/3.10/lib/python3.10/site-packages (from matplotlib) (2.8.2)\n",
      "Requirement already satisfied: six>=1.5 in /Library/Frameworks/Python.framework/Versions/3.10/lib/python3.10/site-packages (from python-dateutil>=2.7->matplotlib) (1.16.0)\n",
      "\n",
      "\u001b[1m[\u001b[0m\u001b[34;49mnotice\u001b[0m\u001b[1;39;49m]\u001b[0m\u001b[39;49m A new release of pip is available: \u001b[0m\u001b[31;49m23.2.1\u001b[0m\u001b[39;49m -> \u001b[0m\u001b[32;49m24.2\u001b[0m\n",
      "\u001b[1m[\u001b[0m\u001b[34;49mnotice\u001b[0m\u001b[1;39;49m]\u001b[0m\u001b[39;49m To update, run: \u001b[0m\u001b[32;49mpip3 install --upgrade pip\u001b[0m\n",
      "Note: you may need to restart the kernel to use updated packages.\n"
     ]
    }
   ],
   "source": [
    "%pip install scikit-learn\n",
    "%pip install pandas\n",
    "%pip install seaborn\n",
    "%pip install matplotlib"
   ]
  },
  {
   "cell_type": "markdown",
   "metadata": {},
   "source": [
    "## Load Dataset"
   ]
  },
  {
   "cell_type": "code",
   "execution_count": 8,
   "metadata": {},
   "outputs": [],
   "source": [
    "import pandas as pd \n",
    "import seaborn as sns\n",
    "# import digits dataset\n",
    "from sklearn.datasets import load_digits\n",
    "import matplotlib as plt \n",
    "\n",
    "df = pd.DataFrame(load_digits().data)\n",
    "df['target'] = load_digits().target"
   ]
  },
  {
   "cell_type": "code",
   "execution_count": 3,
   "metadata": {},
   "outputs": [
    {
     "data": {
      "text/html": [
       "<div>\n",
       "<style scoped>\n",
       "    .dataframe tbody tr th:only-of-type {\n",
       "        vertical-align: middle;\n",
       "    }\n",
       "\n",
       "    .dataframe tbody tr th {\n",
       "        vertical-align: top;\n",
       "    }\n",
       "\n",
       "    .dataframe thead th {\n",
       "        text-align: right;\n",
       "    }\n",
       "</style>\n",
       "<table border=\"1\" class=\"dataframe\">\n",
       "  <thead>\n",
       "    <tr style=\"text-align: right;\">\n",
       "      <th></th>\n",
       "      <th>0</th>\n",
       "      <th>1</th>\n",
       "      <th>2</th>\n",
       "      <th>3</th>\n",
       "      <th>4</th>\n",
       "      <th>5</th>\n",
       "      <th>6</th>\n",
       "      <th>7</th>\n",
       "      <th>8</th>\n",
       "      <th>9</th>\n",
       "      <th>...</th>\n",
       "      <th>55</th>\n",
       "      <th>56</th>\n",
       "      <th>57</th>\n",
       "      <th>58</th>\n",
       "      <th>59</th>\n",
       "      <th>60</th>\n",
       "      <th>61</th>\n",
       "      <th>62</th>\n",
       "      <th>63</th>\n",
       "      <th>target</th>\n",
       "    </tr>\n",
       "  </thead>\n",
       "  <tbody>\n",
       "    <tr>\n",
       "      <th>0</th>\n",
       "      <td>0.0</td>\n",
       "      <td>0.0</td>\n",
       "      <td>5.0</td>\n",
       "      <td>13.0</td>\n",
       "      <td>9.0</td>\n",
       "      <td>1.0</td>\n",
       "      <td>0.0</td>\n",
       "      <td>0.0</td>\n",
       "      <td>0.0</td>\n",
       "      <td>0.0</td>\n",
       "      <td>...</td>\n",
       "      <td>0.0</td>\n",
       "      <td>0.0</td>\n",
       "      <td>0.0</td>\n",
       "      <td>6.0</td>\n",
       "      <td>13.0</td>\n",
       "      <td>10.0</td>\n",
       "      <td>0.0</td>\n",
       "      <td>0.0</td>\n",
       "      <td>0.0</td>\n",
       "      <td>0</td>\n",
       "    </tr>\n",
       "    <tr>\n",
       "      <th>1</th>\n",
       "      <td>0.0</td>\n",
       "      <td>0.0</td>\n",
       "      <td>0.0</td>\n",
       "      <td>12.0</td>\n",
       "      <td>13.0</td>\n",
       "      <td>5.0</td>\n",
       "      <td>0.0</td>\n",
       "      <td>0.0</td>\n",
       "      <td>0.0</td>\n",
       "      <td>0.0</td>\n",
       "      <td>...</td>\n",
       "      <td>0.0</td>\n",
       "      <td>0.0</td>\n",
       "      <td>0.0</td>\n",
       "      <td>0.0</td>\n",
       "      <td>11.0</td>\n",
       "      <td>16.0</td>\n",
       "      <td>10.0</td>\n",
       "      <td>0.0</td>\n",
       "      <td>0.0</td>\n",
       "      <td>1</td>\n",
       "    </tr>\n",
       "    <tr>\n",
       "      <th>2</th>\n",
       "      <td>0.0</td>\n",
       "      <td>0.0</td>\n",
       "      <td>0.0</td>\n",
       "      <td>4.0</td>\n",
       "      <td>15.0</td>\n",
       "      <td>12.0</td>\n",
       "      <td>0.0</td>\n",
       "      <td>0.0</td>\n",
       "      <td>0.0</td>\n",
       "      <td>0.0</td>\n",
       "      <td>...</td>\n",
       "      <td>0.0</td>\n",
       "      <td>0.0</td>\n",
       "      <td>0.0</td>\n",
       "      <td>0.0</td>\n",
       "      <td>3.0</td>\n",
       "      <td>11.0</td>\n",
       "      <td>16.0</td>\n",
       "      <td>9.0</td>\n",
       "      <td>0.0</td>\n",
       "      <td>2</td>\n",
       "    </tr>\n",
       "    <tr>\n",
       "      <th>3</th>\n",
       "      <td>0.0</td>\n",
       "      <td>0.0</td>\n",
       "      <td>7.0</td>\n",
       "      <td>15.0</td>\n",
       "      <td>13.0</td>\n",
       "      <td>1.0</td>\n",
       "      <td>0.0</td>\n",
       "      <td>0.0</td>\n",
       "      <td>0.0</td>\n",
       "      <td>8.0</td>\n",
       "      <td>...</td>\n",
       "      <td>0.0</td>\n",
       "      <td>0.0</td>\n",
       "      <td>0.0</td>\n",
       "      <td>7.0</td>\n",
       "      <td>13.0</td>\n",
       "      <td>13.0</td>\n",
       "      <td>9.0</td>\n",
       "      <td>0.0</td>\n",
       "      <td>0.0</td>\n",
       "      <td>3</td>\n",
       "    </tr>\n",
       "    <tr>\n",
       "      <th>4</th>\n",
       "      <td>0.0</td>\n",
       "      <td>0.0</td>\n",
       "      <td>0.0</td>\n",
       "      <td>1.0</td>\n",
       "      <td>11.0</td>\n",
       "      <td>0.0</td>\n",
       "      <td>0.0</td>\n",
       "      <td>0.0</td>\n",
       "      <td>0.0</td>\n",
       "      <td>0.0</td>\n",
       "      <td>...</td>\n",
       "      <td>0.0</td>\n",
       "      <td>0.0</td>\n",
       "      <td>0.0</td>\n",
       "      <td>0.0</td>\n",
       "      <td>2.0</td>\n",
       "      <td>16.0</td>\n",
       "      <td>4.0</td>\n",
       "      <td>0.0</td>\n",
       "      <td>0.0</td>\n",
       "      <td>4</td>\n",
       "    </tr>\n",
       "  </tbody>\n",
       "</table>\n",
       "<p>5 rows × 65 columns</p>\n",
       "</div>"
      ],
      "text/plain": [
       "     0    1    2     3     4     5    6    7    8    9  ...   55   56   57  \\\n",
       "0  0.0  0.0  5.0  13.0   9.0   1.0  0.0  0.0  0.0  0.0  ...  0.0  0.0  0.0   \n",
       "1  0.0  0.0  0.0  12.0  13.0   5.0  0.0  0.0  0.0  0.0  ...  0.0  0.0  0.0   \n",
       "2  0.0  0.0  0.0   4.0  15.0  12.0  0.0  0.0  0.0  0.0  ...  0.0  0.0  0.0   \n",
       "3  0.0  0.0  7.0  15.0  13.0   1.0  0.0  0.0  0.0  8.0  ...  0.0  0.0  0.0   \n",
       "4  0.0  0.0  0.0   1.0  11.0   0.0  0.0  0.0  0.0  0.0  ...  0.0  0.0  0.0   \n",
       "\n",
       "    58    59    60    61   62   63  target  \n",
       "0  6.0  13.0  10.0   0.0  0.0  0.0       0  \n",
       "1  0.0  11.0  16.0  10.0  0.0  0.0       1  \n",
       "2  0.0   3.0  11.0  16.0  9.0  0.0       2  \n",
       "3  7.0  13.0  13.0   9.0  0.0  0.0       3  \n",
       "4  0.0   2.0  16.0   4.0  0.0  0.0       4  \n",
       "\n",
       "[5 rows x 65 columns]"
      ]
     },
     "execution_count": 3,
     "metadata": {},
     "output_type": "execute_result"
    }
   ],
   "source": [
    "df.head()"
   ]
  },
  {
   "cell_type": "markdown",
   "metadata": {},
   "source": [
    "## Understanding the Dataset"
   ]
  },
  {
   "cell_type": "code",
   "execution_count": 28,
   "metadata": {},
   "outputs": [
    {
     "data": {
      "image/png": "[encoded data removed]",
      "text/plain": [
       "<Figure size 144x144 with 1 Axes>"
      ]
     },
     "metadata": {
      "needs_background": "light"
     },
     "output_type": "display_data"
    },
    {
     "data": {
      "image/png": "[encoded data removed]",
      "text/plain": [
       "<Figure size 144x144 with 1 Axes>"
      ]
     },
     "metadata": {
      "needs_background": "light"
     },
     "output_type": "display_data"
    },
    {
     "data": {
      "image/png": "[encoded data removed]",
      "text/plain": [
       "<Figure size 144x144 with 1 Axes>"
      ]
     },
     "metadata": {
      "needs_background": "light"
     },
     "output_type": "display_data"
    },
    {
     "data": {
      "image/png": "[encoded data removed]",
      "text/plain": [
       "<Figure size 144x144 with 1 Axes>"
      ]
     },
     "metadata": {
      "needs_background": "light"
     },
     "output_type": "display_data"
    }
   ],
   "source": [
    "# Plot the first 5 digits using seaborn\n",
    "import matplotlib.pyplot as plt\n",
    "\n",
    "for i in range(1, 5):\n",
    "    plt.figure(figsize=(2, 2))\n",
    "    sns.heatmap(df.iloc[i, :-1].values.reshape(8, 8), cmap='flare', cbar=False)\n",
    "    plt.title(f'Digit: {df.iloc[i, -1]}')\n",
    "    plt.show()\n",
    "    \n",
    "\n",
    "\n"
   ]
  },
  {
   "cell_type": "markdown",
   "metadata": {},
   "source": [
    "## Applying descriptive statistics"
   ]
  },
  {
   "cell_type": "code",
   "execution_count": 29,
   "metadata": {},
   "outputs": [
    {
     "data": {
      "text/html": [
       "<div>\n",
       "<style scoped>\n",
       "    .dataframe tbody tr th:only-of-type {\n",
       "        vertical-align: middle;\n",
       "    }\n",
       "\n",
       "    .dataframe tbody tr th {\n",
       "        vertical-align: top;\n",
       "    }\n",
       "\n",
       "    .dataframe thead th {\n",
       "        text-align: right;\n",
       "    }\n",
       "</style>\n",
       "<table border=\"1\" class=\"dataframe\">\n",
       "  <thead>\n",
       "    <tr style=\"text-align: right;\">\n",
       "      <th></th>\n",
       "      <th>0</th>\n",
       "      <th>1</th>\n",
       "      <th>2</th>\n",
       "      <th>3</th>\n",
       "      <th>4</th>\n",
       "      <th>5</th>\n",
       "      <th>6</th>\n",
       "      <th>7</th>\n",
       "      <th>8</th>\n",
       "      <th>9</th>\n",
       "      <th>...</th>\n",
       "      <th>55</th>\n",
       "      <th>56</th>\n",
       "      <th>57</th>\n",
       "      <th>58</th>\n",
       "      <th>59</th>\n",
       "      <th>60</th>\n",
       "      <th>61</th>\n",
       "      <th>62</th>\n",
       "      <th>63</th>\n",
       "      <th>target</th>\n",
       "    </tr>\n",
       "  </thead>\n",
       "  <tbody>\n",
       "    <tr>\n",
       "      <th>count</th>\n",
       "      <td>1797.0</td>\n",
       "      <td>1797.000000</td>\n",
       "      <td>1797.000000</td>\n",
       "      <td>1797.000000</td>\n",
       "      <td>1797.000000</td>\n",
       "      <td>1797.000000</td>\n",
       "      <td>1797.000000</td>\n",
       "      <td>1797.000000</td>\n",
       "      <td>1797.000000</td>\n",
       "      <td>1797.000000</td>\n",
       "      <td>...</td>\n",
       "      <td>1797.000000</td>\n",
       "      <td>1797.000000</td>\n",
       "      <td>1797.000000</td>\n",
       "      <td>1797.000000</td>\n",
       "      <td>1797.000000</td>\n",
       "      <td>1797.000000</td>\n",
       "      <td>1797.000000</td>\n",
       "      <td>1797.000000</td>\n",
       "      <td>1797.000000</td>\n",
       "      <td>1797.000000</td>\n",
       "    </tr>\n",
       "    <tr>\n",
       "      <th>mean</th>\n",
       "      <td>0.0</td>\n",
       "      <td>0.303840</td>\n",
       "      <td>5.204786</td>\n",
       "      <td>11.835838</td>\n",
       "      <td>11.848080</td>\n",
       "      <td>5.781859</td>\n",
       "      <td>1.362270</td>\n",
       "      <td>0.129661</td>\n",
       "      <td>0.005565</td>\n",
       "      <td>1.993879</td>\n",
       "      <td>...</td>\n",
       "      <td>0.206455</td>\n",
       "      <td>0.000556</td>\n",
       "      <td>0.279354</td>\n",
       "      <td>5.557596</td>\n",
       "      <td>12.089037</td>\n",
       "      <td>11.809126</td>\n",
       "      <td>6.764051</td>\n",
       "      <td>2.067891</td>\n",
       "      <td>0.364496</td>\n",
       "      <td>4.490818</td>\n",
       "    </tr>\n",
       "    <tr>\n",
       "      <th>std</th>\n",
       "      <td>0.0</td>\n",
       "      <td>0.907192</td>\n",
       "      <td>4.754826</td>\n",
       "      <td>4.248842</td>\n",
       "      <td>4.287388</td>\n",
       "      <td>5.666418</td>\n",
       "      <td>3.325775</td>\n",
       "      <td>1.037383</td>\n",
       "      <td>0.094222</td>\n",
       "      <td>3.196160</td>\n",
       "      <td>...</td>\n",
       "      <td>0.984401</td>\n",
       "      <td>0.023590</td>\n",
       "      <td>0.934302</td>\n",
       "      <td>5.103019</td>\n",
       "      <td>4.374694</td>\n",
       "      <td>4.933947</td>\n",
       "      <td>5.900623</td>\n",
       "      <td>4.090548</td>\n",
       "      <td>1.860122</td>\n",
       "      <td>2.865304</td>\n",
       "    </tr>\n",
       "    <tr>\n",
       "      <th>min</th>\n",
       "      <td>0.0</td>\n",
       "      <td>0.000000</td>\n",
       "      <td>0.000000</td>\n",
       "      <td>0.000000</td>\n",
       "      <td>0.000000</td>\n",
       "      <td>0.000000</td>\n",
       "      <td>0.000000</td>\n",
       "      <td>0.000000</td>\n",
       "      <td>0.000000</td>\n",
       "      <td>0.000000</td>\n",
       "      <td>...</td>\n",
       "      <td>0.000000</td>\n",
       "      <td>0.000000</td>\n",
       "      <td>0.000000</td>\n",
       "      <td>0.000000</td>\n",
       "      <td>0.000000</td>\n",
       "      <td>0.000000</td>\n",
       "      <td>0.000000</td>\n",
       "      <td>0.000000</td>\n",
       "      <td>0.000000</td>\n",
       "      <td>0.000000</td>\n",
       "    </tr>\n",
       "    <tr>\n",
       "      <th>25%</th>\n",
       "      <td>0.0</td>\n",
       "      <td>0.000000</td>\n",
       "      <td>1.000000</td>\n",
       "      <td>10.000000</td>\n",
       "      <td>10.000000</td>\n",
       "      <td>0.000000</td>\n",
       "      <td>0.000000</td>\n",
       "      <td>0.000000</td>\n",
       "      <td>0.000000</td>\n",
       "      <td>0.000000</td>\n",
       "      <td>...</td>\n",
       "      <td>0.000000</td>\n",
       "      <td>0.000000</td>\n",
       "      <td>0.000000</td>\n",
       "      <td>1.000000</td>\n",
       "      <td>11.000000</td>\n",
       "      <td>10.000000</td>\n",
       "      <td>0.000000</td>\n",
       "      <td>0.000000</td>\n",
       "      <td>0.000000</td>\n",
       "      <td>2.000000</td>\n",
       "    </tr>\n",
       "    <tr>\n",
       "      <th>50%</th>\n",
       "      <td>0.0</td>\n",
       "      <td>0.000000</td>\n",
       "      <td>4.000000</td>\n",
       "      <td>13.000000</td>\n",
       "      <td>13.000000</td>\n",
       "      <td>4.000000</td>\n",
       "      <td>0.000000</td>\n",
       "      <td>0.000000</td>\n",
       "      <td>0.000000</td>\n",
       "      <td>0.000000</td>\n",
       "      <td>...</td>\n",
       "      <td>0.000000</td>\n",
       "      <td>0.000000</td>\n",
       "      <td>0.000000</td>\n",
       "      <td>4.000000</td>\n",
       "      <td>13.000000</td>\n",
       "      <td>14.000000</td>\n",
       "      <td>6.000000</td>\n",
       "      <td>0.000000</td>\n",
       "      <td>0.000000</td>\n",
       "      <td>4.000000</td>\n",
       "    </tr>\n",
       "    <tr>\n",
       "      <th>75%</th>\n",
       "      <td>0.0</td>\n",
       "      <td>0.000000</td>\n",
       "      <td>9.000000</td>\n",
       "      <td>15.000000</td>\n",
       "      <td>15.000000</td>\n",
       "      <td>11.000000</td>\n",
       "      <td>0.000000</td>\n",
       "      <td>0.000000</td>\n",
       "      <td>0.000000</td>\n",
       "      <td>3.000000</td>\n",
       "      <td>...</td>\n",
       "      <td>0.000000</td>\n",
       "      <td>0.000000</td>\n",
       "      <td>0.000000</td>\n",
       "      <td>10.000000</td>\n",
       "      <td>16.000000</td>\n",
       "      <td>16.000000</td>\n",
       "      <td>12.000000</td>\n",
       "      <td>2.000000</td>\n",
       "      <td>0.000000</td>\n",
       "      <td>7.000000</td>\n",
       "    </tr>\n",
       "    <tr>\n",
       "      <th>max</th>\n",
       "      <td>0.0</td>\n",
       "      <td>8.000000</td>\n",
       "      <td>16.000000</td>\n",
       "      <td>16.000000</td>\n",
       "      <td>16.000000</td>\n",
       "      <td>16.000000</td>\n",
       "      <td>16.000000</td>\n",
       "      <td>15.000000</td>\n",
       "      <td>2.000000</td>\n",
       "      <td>16.000000</td>\n",
       "      <td>...</td>\n",
       "      <td>13.000000</td>\n",
       "      <td>1.000000</td>\n",
       "      <td>9.000000</td>\n",
       "      <td>16.000000</td>\n",
       "      <td>16.000000</td>\n",
       "      <td>16.000000</td>\n",
       "      <td>16.000000</td>\n",
       "      <td>16.000000</td>\n",
       "      <td>16.000000</td>\n",
       "      <td>9.000000</td>\n",
       "    </tr>\n",
       "  </tbody>\n",
       "</table>\n",
       "<p>8 rows × 65 columns</p>\n",
       "</div>"
      ],
      "text/plain": [
       "            0            1            2            3            4  \\\n",
       "count  1797.0  1797.000000  1797.000000  1797.000000  1797.000000   \n",
       "mean      0.0     0.303840     5.204786    11.835838    11.848080   \n",
       "std       0.0     0.907192     4.754826     4.248842     4.287388   \n",
       "min       0.0     0.000000     0.000000     0.000000     0.000000   \n",
       "25%       0.0     0.000000     1.000000    10.000000    10.000000   \n",
       "50%       0.0     0.000000     4.000000    13.000000    13.000000   \n",
       "75%       0.0     0.000000     9.000000    15.000000    15.000000   \n",
       "max       0.0     8.000000    16.000000    16.000000    16.000000   \n",
       "\n",
       "                 5            6            7            8            9  ...  \\\n",
       "count  1797.000000  1797.000000  1797.000000  1797.000000  1797.000000  ...   \n",
       "mean      5.781859     1.362270     0.129661     0.005565     1.993879  ...   \n",
       "std       5.666418     3.325775     1.037383     0.094222     3.196160  ...   \n",
       "min       0.000000     0.000000     0.000000     0.000000     0.000000  ...   \n",
       "25%       0.000000     0.000000     0.000000     0.000000     0.000000  ...   \n",
       "50%       4.000000     0.000000     0.000000     0.000000     0.000000  ...   \n",
       "75%      11.000000     0.000000     0.000000     0.000000     3.000000  ...   \n",
       "max      16.000000    16.000000    15.000000     2.000000    16.000000  ...   \n",
       "\n",
       "                55           56           57           58           59  \\\n",
       "count  1797.000000  1797.000000  1797.000000  1797.000000  1797.000000   \n",
       "mean      0.206455     0.000556     0.279354     5.557596    12.089037   \n",
       "std       0.984401     0.023590     0.934302     5.103019     4.374694   \n",
       "min       0.000000     0.000000     0.000000     0.000000     0.000000   \n",
       "25%       0.000000     0.000000     0.000000     1.000000    11.000000   \n",
       "50%       0.000000     0.000000     0.000000     4.000000    13.000000   \n",
       "75%       0.000000     0.000000     0.000000    10.000000    16.000000   \n",
       "max      13.000000     1.000000     9.000000    16.000000    16.000000   \n",
       "\n",
       "                60           61           62           63       target  \n",
       "count  1797.000000  1797.000000  1797.000000  1797.000000  1797.000000  \n",
       "mean     11.809126     6.764051     2.067891     0.364496     4.490818  \n",
       "std       4.933947     5.900623     4.090548     1.860122     2.865304  \n",
       "min       0.000000     0.000000     0.000000     0.000000     0.000000  \n",
       "25%      10.000000     0.000000     0.000000     0.000000     2.000000  \n",
       "50%      14.000000     6.000000     0.000000     0.000000     4.000000  \n",
       "75%      16.000000    12.000000     2.000000     0.000000     7.000000  \n",
       "max      16.000000    16.000000    16.000000    16.000000     9.000000  \n",
       "\n",
       "[8 rows x 65 columns]"
      ]
     },
     "execution_count": 29,
     "metadata": {},
     "output_type": "execute_result"
    }
   ],
   "source": [
    "df.describe()"
   ]
  },
  {
   "cell_type": "markdown",
   "metadata": {},
   "source": [
    "## Extracting Conclusions"
   ]
  },
  {
   "cell_type": "markdown",
   "metadata": {},
   "source": [
    "Basándonos en esta información podemos sacar multiples datos al respecto- En primera instancia, es importante considerar que no recibimos información alguna de la primera o ultima columna, al ser estas las principales para definir el cuerpo de los números. Además, también debemos de considerar que las filas (los primeros 8 elementos o los últimos 8) practicamente no poseen información tampoco, siguiendo la misma lüogica de las columnas. Es decir, la gran mayoría de la información se concentra mayoritariamente en el medio de la imágen. "
   ]
  },
  {
   "cell_type": "markdown",
   "metadata": {},
   "source": [
    "## Visualization"
   ]
  },
  {
   "cell_type": "code",
   "execution_count": 30,
   "metadata": {},
   "outputs": [
    {
     "data": {
      "image/png": "[encoded data removed]",
      "text/plain": [
       "<Figure size 432x288 with 1 Axes>"
      ]
     },
     "metadata": {
      "needs_background": "light"
     },
     "output_type": "display_data"
    }
   ],
   "source": [
    "sns.boxplot(data=df.iloc[:, :-1])\n",
    "plt.show()"
   ]
  },
  {
   "cell_type": "code",
   "execution_count": 33,
   "metadata": {},
   "outputs": [
    {
     "data": {
      "text/plain": [
       "<AxesSubplot: xlabel='1', ylabel='2'>"
      ]
     },
     "execution_count": 33,
     "metadata": {},
     "output_type": "execute_result"
    },
    {
     "data": {
      "image/png": "[encoded data removed]",
      "text/plain": [
       "<Figure size 432x288 with 1 Axes>"
      ]
     },
     "metadata": {
      "needs_background": "light"
     },
     "output_type": "display_data"
    }
   ],
   "source": [
    "# Scatterlpot between 2 features: columns 0 and 1\n",
    "sns.scatterplot(data=df, x=1, y=2, hue='target')"
   ]
  },
  {
   "cell_type": "code",
   "execution_count": 34,
   "metadata": {},
   "outputs": [
    {
     "data": {
      "text/plain": [
       "<AxesSubplot: xlabel='3', ylabel='4'>"
      ]
     },
     "execution_count": 34,
     "metadata": {},
     "output_type": "execute_result"
    },
    {
     "data": {
      "image/png": "[encoded data removed]",
      "text/plain": [
       "<Figure size 432x288 with 1 Axes>"
      ]
     },
     "metadata": {
      "needs_background": "light"
     },
     "output_type": "display_data"
    }
   ],
   "source": [
    "sns.scatterplot(data=df, x=3, y=4, hue='target')"
   ]
  },
  {
   "cell_type": "markdown",
   "metadata": {},
   "source": [
    "## KMeans Clustering"
   ]
  },
  {
   "cell_type": "code",
   "execution_count": 55,
   "metadata": {},
   "outputs": [
    {
     "name": "stdout",
     "output_type": "stream",
     "text": [
      "[[ 0.00000000e+00  2.23463687e-02  4.22905028e+00  1.31396648e+01\n",
      "   1.12681564e+01  2.93854749e+00  3.35195531e-02 -5.55111512e-17\n",
      "   1.73472348e-18  8.82681564e-01  1.26201117e+01  1.33687151e+01\n",
      "   1.14078212e+01  1.13687151e+01  9.60893855e-01  0.00000000e+00\n",
      "   8.67361738e-19  3.72625698e+00  1.42122905e+01  5.25139665e+00\n",
      "   2.10614525e+00  1.21173184e+01  3.53072626e+00 -1.38777878e-17\n",
      "  -2.16840434e-19  5.29608939e+00  1.26424581e+01  2.03351955e+00\n",
      "   2.29050279e-01  9.07821229e+00  6.47486034e+00 -4.33680869e-19\n",
      "   0.00000000e+00  5.88268156e+00  1.14916201e+01  8.65921788e-01\n",
      "   3.35195531e-02  8.81005587e+00  7.15083799e+00  0.00000000e+00\n",
      "  -1.73472348e-18  3.51396648e+00  1.32849162e+01  1.65921788e+00\n",
      "   1.49162011e+00  1.13519553e+01  5.84357542e+00  6.93889390e-18\n",
      "   1.73472348e-18  8.04469274e-01  1.31117318e+01  9.96089385e+00\n",
      "   1.03519553e+01  1.32960894e+01  2.47486034e+00  2.23463687e-02\n",
      "  -1.08420217e-19  5.58659218e-03  4.19553073e+00  1.35865922e+01\n",
      "   1.33407821e+01  5.48044693e+00  3.18435754e-01  1.67597765e-02\n",
      "   4.46927374e-02]\n",
      " [ 0.00000000e+00  9.16201117e-01  1.00670391e+01  1.44189944e+01\n",
      "   7.78770950e+00  1.04469274e+00 -6.66133815e-16 -2.77555756e-17\n",
      "   1.11731844e-02  5.10055866e+00  1.35754190e+01  1.26256983e+01\n",
      "   1.15865922e+01  3.31843575e+00  3.35195531e-02 -1.38777878e-17\n",
      "   5.58659218e-03  4.45251397e+00  8.03910615e+00  6.11731844e+00\n",
      "   1.20670391e+01  3.72067039e+00  3.91061453e-02 -1.38777878e-17\n",
      "  -2.16840434e-19  9.16201117e-01  2.62569832e+00  6.87709497e+00\n",
      "   1.25307263e+01  2.80446927e+00  3.91061453e-02 -4.33680869e-19\n",
      "   0.00000000e+00  4.46927374e-02  1.44692737e+00  9.68156425e+00\n",
      "   1.08603352e+01  1.69273743e+00  1.11731844e-02  0.00000000e+00\n",
      "  -1.73472348e-18  2.45810056e-01  4.26256983e+00  1.09832402e+01\n",
      "   7.83240223e+00  2.45810056e+00  8.99441341e-01  1.11731844e-02\n",
      "   8.67361738e-19  1.17318436e+00  1.08156425e+01  1.36703911e+01\n",
      "   1.19106145e+01  1.11340782e+01  7.71508380e+00  1.11173184e+00\n",
      "  -1.08420217e-19  9.10614525e-01  1.02681564e+01  1.44860335e+01\n",
      "   1.35195531e+01  1.24078212e+01  9.03910615e+00  2.98324022e+00\n",
      "   1.89944134e+00]\n",
      " [ 0.00000000e+00  7.11711712e-01  7.08558559e+00  1.33783784e+01\n",
      "   1.28738739e+01  7.56306306e+00  1.91441441e+00  2.25225225e-02\n",
      "   2.25225225e-02  3.05855856e+00  1.09594595e+01  1.32117117e+01\n",
      "   1.15360360e+01  7.69369369e+00  1.71621622e+00  2.25225225e-02\n",
      "   1.35135135e-02  3.86936937e+00  1.06936937e+01  1.00585586e+01\n",
      "   9.11261261e+00  4.61711712e+00  3.78378378e-01  6.93889390e-18\n",
      "   9.00900901e-03  2.77477477e+00  1.03378378e+01  1.36171171e+01\n",
      "   1.05315315e+01  2.06756757e+00  1.71171171e-01  8.67361738e-19\n",
      "   0.00000000e+00  1.28378378e+00  7.79279279e+00  1.36531532e+01\n",
      "   1.10855856e+01  1.13513514e+00  6.30630631e-02  0.00000000e+00\n",
      "   3.46944695e-18  5.18018018e-01  5.83783784e+00  1.11936937e+01\n",
      "   1.22522523e+01  1.74324324e+00  2.25225225e-02  1.04083409e-17\n",
      "   2.60208521e-18  5.94594595e-01  7.09009009e+00  1.21981982e+01\n",
      "   1.19864865e+01  1.90090090e+00  6.30630631e-02  4.50450450e-03\n",
      "   2.16840434e-19  6.44144144e-01  7.67567568e+00  1.34144144e+01\n",
      "   9.22522523e+00  1.61261261e+00  4.05405405e-02  5.55111512e-17\n",
      "   4.29279279e+00]\n",
      " [ 0.00000000e+00  6.41509434e-01  9.37264151e+00  1.39245283e+01\n",
      "   1.38066038e+01  9.21226415e+00  2.06603774e+00  1.41509434e-02\n",
      "   9.43396226e-03  3.40094340e+00  1.33962264e+01  9.66509434e+00\n",
      "   1.00754717e+01  9.41037736e+00  1.96698113e+00  1.41509434e-02\n",
      "   1.73472348e-18  2.58962264e+00  7.72641509e+00  4.24056604e+00\n",
      "   8.16509434e+00  6.11320755e+00  6.08490566e-01 -6.93889390e-18\n",
      "  -2.16840434e-19  2.27830189e+00  7.02830189e+00  1.06603774e+01\n",
      "   1.30047170e+01  6.14622642e+00  2.78301887e-01 -4.33680869e-19\n",
      "   0.00000000e+00  7.40566038e-01  3.50943396e+00  5.96226415e+00\n",
      "   1.14292453e+01  1.19669811e+01  1.92924528e+00  0.00000000e+00\n",
      "  -1.73472348e-18  2.50000000e-01  8.34905660e-01  5.28301887e-01\n",
      "   4.80188679e+00  1.34528302e+01  4.29716981e+00  4.71698113e-03\n",
      "   4.33680869e-18  8.34905660e-01  6.21226415e+00  6.01415094e+00\n",
      "   1.02688679e+01  1.31886792e+01  3.30660377e+00  8.01886792e-02\n",
      "  -1.08420217e-19  5.75471698e-01  1.02405660e+01  1.49198113e+01\n",
      "   1.27830189e+01  5.60849057e+00  4.66981132e-01  1.36792453e-01\n",
      "   4.02358491e+00]\n",
      " [ 0.00000000e+00  8.22784810e-02  4.04430380e+00  1.10316456e+01\n",
      "   1.27658228e+01  6.67721519e+00  6.83544304e-01 -2.77555756e-17\n",
      "   2.60208521e-18  1.30379747e+00  1.11265823e+01  1.26329114e+01\n",
      "   1.06139241e+01  1.24493671e+01  2.64556962e+00  0.00000000e+00\n",
      "   1.30104261e-18  2.38607595e+00  1.06012658e+01  7.81012658e+00\n",
      "   7.86075949e+00  1.26898734e+01  2.20253165e+00 -6.93889390e-18\n",
      "  -2.16840434e-19  1.02531646e+00  7.75316456e+00  1.22974684e+01\n",
      "   1.41139241e+01  8.25949367e+00  4.81012658e-01 -4.33680869e-19\n",
      "   0.00000000e+00  4.36708861e-01  6.82278481e+00  1.38354430e+01\n",
      "   1.43291139e+01  5.22151899e+00  8.86075949e-02  0.00000000e+00\n",
      "  -1.73472348e-18  1.31012658e+00  1.08101266e+01  9.45569620e+00\n",
      "   9.23417722e+00  9.55063291e+00  1.25949367e+00  0.00000000e+00\n",
      "   1.89873418e-02  1.17088608e+00  1.07405063e+01  9.80379747e+00\n",
      "   8.79113924e+00  1.12721519e+01  2.65822785e+00  1.89873418e-02\n",
      "   6.32911392e-03  1.32911392e-01  4.04430380e+00  1.18164557e+01\n",
      "   1.35632911e+01  8.50632911e+00  1.70886076e+00  1.26582278e-02\n",
      "   6.49367089e+00]\n",
      " [ 0.00000000e+00  1.11022302e-16  2.95857988e-01  7.02366864e+00\n",
      "   1.20177515e+01  2.02366864e+00  1.95266272e-01  5.32544379e-02\n",
      "   2.60208521e-18  5.91715976e-03  3.15976331e+00  1.36508876e+01\n",
      "   8.66272189e+00  1.55621302e+00  1.00000000e+00  3.13609467e-01\n",
      "   1.30104261e-18  5.50295858e-01  1.04674556e+01  1.16568047e+01\n",
      "   4.41420118e+00  5.14792899e+00  3.86390533e+00  3.49112426e-01\n",
      "  -2.16840434e-19  4.60946746e+00  1.46449704e+01  6.07100592e+00\n",
      "   6.83431953e+00  1.06272189e+01  6.20118343e+00  1.77514793e-02\n",
      "   0.00000000e+00  8.82248521e+00  1.48224852e+01  9.44970414e+00\n",
      "   1.28343195e+01  1.43313609e+01  5.43195266e+00  0.00000000e+00\n",
      "   9.46745562e-02  6.46745562e+00  1.16213018e+01  1.22366864e+01\n",
      "   1.47455621e+01  1.10118343e+01  1.71005917e+00  3.46944695e-18\n",
      "   5.91715976e-02  1.14201183e+00  3.02366864e+00  7.59763314e+00\n",
      "   1.40887574e+01  4.33727811e+00  2.36686391e-02 -8.32667268e-17\n",
      "  -1.08420217e-19  2.36686391e-02  3.55029586e-01  7.79881657e+00\n",
      "   1.24378698e+01  1.84023669e+00 -8.88178420e-16  0.00000000e+00\n",
      "   3.99408284e+00]\n",
      " [ 0.00000000e+00  1.21212121e-01  4.56565657e+00  1.27676768e+01\n",
      "   1.40959596e+01  1.11212121e+01  5.10101010e+00  9.79797980e-01\n",
      "   2.60208521e-18  1.00505051e+00  1.04595960e+01  1.16767677e+01\n",
      "   1.04545455e+01  1.26616162e+01  5.65151515e+00  5.60606061e-01\n",
      "   1.30104261e-18  1.06565657e+00  5.50505051e+00  2.26767677e+00\n",
      "   6.57070707e+00  1.16515152e+01  3.51010101e+00  1.16161616e-01\n",
      "  -4.33680869e-19  9.89898990e-01  4.93434343e+00  6.34848485e+00\n",
      "   1.21717172e+01  1.24545455e+01  4.87373737e+00  5.05050505e-03\n",
      "   0.00000000e+00  1.51010101e+00  8.76767677e+00  1.29696970e+01\n",
      "   1.48535354e+01  1.10959596e+01  4.05555556e+00  0.00000000e+00\n",
      "  -3.46944695e-18  1.14646465e+00  5.22222222e+00  1.13181818e+01\n",
      "   1.12575758e+01  3.84848485e+00  5.50505051e-01  6.93889390e-18\n",
      "   1.73472348e-18  9.09090909e-02  2.67676768e+00  1.22777778e+01\n",
      "   6.48989899e+00  3.68686869e-01  1.01010101e-02 -1.11022302e-16\n",
      "  -2.16840434e-19  9.59595960e-02  5.69696970e+00  1.20303030e+01\n",
      "   2.75252525e+00  1.66666667e-01  2.52525253e-02  5.55111512e-17\n",
      "   6.79292929e+00]\n",
      " [ 0.00000000e+00  1.11022302e-16  1.17032967e+00  1.12582418e+01\n",
      "   9.54395604e+00  1.48351648e+00  4.39560440e-02 -5.55111512e-17\n",
      "   2.60208521e-18  6.04395604e-02  7.21428571e+00  1.45604396e+01\n",
      "   6.21978022e+00  8.07692308e-01  4.39560440e-02 -1.38777878e-17\n",
      "   1.30104261e-18  7.80219780e-01  1.24945055e+01  9.47252747e+00\n",
      "   9.34065934e-01  4.39560440e-02  0.00000000e+00 -6.93889390e-18\n",
      "  -4.33680869e-19  2.35714286e+00  1.36868132e+01  8.06593407e+00\n",
      "   3.86813187e+00  1.85714286e+00  1.04395604e-01 -8.67361738e-19\n",
      "   0.00000000e+00  3.55494505e+00  1.47582418e+01  1.29395604e+01\n",
      "   1.22527473e+01  1.03186813e+01  2.75274725e+00  0.00000000e+00\n",
      "  -3.46944695e-18  1.86813187e+00  1.44670330e+01  1.06153846e+01\n",
      "   5.56593407e+00  1.02087912e+01  9.17582418e+00  2.30769231e-01\n",
      "   8.67361738e-19  1.75824176e-01  1.02362637e+01  1.25879121e+01\n",
      "   5.44505495e+00  1.13626374e+01  1.08791209e+01  6.26373626e-01\n",
      "  -2.16840434e-19  0.00000000e+00  1.45604396e+00  1.07912088e+01\n",
      "   1.51263736e+01  1.30769231e+01  4.54945055e+00  1.70329670e-01\n",
      "   5.94505495e+00]\n",
      " [ 0.00000000e+00  5.55111512e-17  1.16279070e-02  1.50000000e+00\n",
      "   1.09069767e+01  1.25813953e+01  4.24418605e+00  2.55813953e-01\n",
      "   2.60208521e-18  3.48837209e-02  1.66279070e+00  8.62790698e+00\n",
      "   1.40232558e+01  1.26162791e+01  4.98837209e+00  2.55813953e-01\n",
      "   1.30104261e-18  1.52325581e+00  8.70930233e+00  1.28023256e+01\n",
      "   1.26511628e+01  1.30232558e+01  3.65116279e+00  9.30232558e-02\n",
      "  -2.16840434e-19  3.67441860e+00  1.20232558e+01  1.19767442e+01\n",
      "   1.33023256e+01  1.34767442e+01  2.36046512e+00 -4.33680869e-19\n",
      "   0.00000000e+00  1.80232558e+00  6.80232558e+00  7.06976744e+00\n",
      "   1.15465116e+01  1.25000000e+01  1.81395349e+00  0.00000000e+00\n",
      "  -1.73472348e-18  7.90697674e-01  2.00000000e+00  3.70930233e+00\n",
      "   1.17906977e+01  1.15930233e+01  1.10465116e+00 -6.93889390e-18\n",
      "  -8.67361738e-19  6.97674419e-02  2.55813953e-01  2.59302326e+00\n",
      "   1.26860465e+01  1.14651163e+01  1.60465116e+00 -8.32667268e-17\n",
      "  -1.08420217e-19 -5.55111512e-17  0.00000000e+00  1.53488372e+00\n",
      "   1.11627907e+01  1.07674419e+01  1.76744186e+00 -5.55111512e-17\n",
      "   3.27906977e+00]\n",
      " [ 0.00000000e+00  2.21698113e-01  6.73113208e+00  1.31037736e+01\n",
      "   1.21745283e+01  5.16037736e+00  2.59433962e-01  0.00000000e+00\n",
      "   4.71698113e-03  3.26415094e+00  1.35660377e+01  8.89150943e+00\n",
      "   9.95283019e+00  1.12783019e+01  9.38679245e-01 -2.77555756e-17\n",
      "   4.71698113e-03  4.00471698e+00  1.05849057e+01  4.34433962e+00\n",
      "   9.04245283e+00  1.20849057e+01  1.66037736e+00 -6.93889390e-18\n",
      "   2.16840434e-19  1.62735849e+00  7.62735849e+00  1.06132075e+01\n",
      "   1.32877358e+01  1.23443396e+01  2.78773585e+00  4.33680869e-19\n",
      "   0.00000000e+00  1.88679245e-01  1.87735849e+00  3.79716981e+00\n",
      "   5.09905660e+00  1.24858491e+01  5.33490566e+00  0.00000000e+00\n",
      "   1.73472348e-18  3.30188679e-01  1.13679245e+00  3.53773585e-01\n",
      "   8.16037736e-01  9.91981132e+00  8.14150943e+00  1.88679245e-02\n",
      "   2.60208521e-18  7.97169811e-01  7.98584906e+00  5.42924528e+00\n",
      "   4.53301887e+00  1.18254717e+01  7.59905660e+00  1.55660377e-01\n",
      "   1.08420217e-19  1.36792453e-01  6.75000000e+00  1.36556604e+01\n",
      "   1.48679245e+01  1.13773585e+01  3.19811321e+00  2.64150943e-01\n",
      "   7.10377358e+00]]\n"
     ]
    }
   ],
   "source": [
    "# import kmeans\n",
    "from sklearn.cluster import KMeans\n",
    "\n",
    "# create a kmeans object\n",
    "df.columns = df.columns.astype(str)\n",
    "\n",
    "# Fit the KMeans model\n",
    "k = 10  # number of clusters\n",
    "kmeans = KMeans(n_clusters=k)\n",
    "kmeans.fit_predict(df.iloc[:, :-1])\n",
    "\n",
    "# Check the shape of cluster centers\n",
    "print(kmeans.cluster_centers_)\n",
    "cluster_centers = kmeans.cluster_centers_\n",
    "labels = kmeans.labels_\n",
    "df['cluster'] = kmeans.labels_"
   ]
  },
  {
   "cell_type": "code",
   "execution_count": 83,
   "metadata": {},
   "outputs": [
    {
     "name": "stdout",
     "output_type": "stream",
     "text": [
      "      cluster  target\n",
      "0           0       0\n",
      "1           2       1\n",
      "2           4       2\n",
      "3           3       3\n",
      "4           5       4\n",
      "...       ...     ...\n",
      "1792        9       9\n",
      "1793        0       0\n",
      "1794        4       8\n",
      "1795        9       9\n",
      "1796        4       8\n",
      "\n",
      "[1797 rows x 2 columns]\n"
     ]
    }
   ],
   "source": [
    "# results of cluster\n",
    "\n",
    "print(df[['cluster', 'target']])"
   ]
  },
  {
   "cell_type": "code",
   "execution_count": 91,
   "metadata": {},
   "outputs": [
    {
     "data": {
      "image/png": "[encoded data removed]",
      "text/plain": [
       "<Figure size 144x144 with 1 Axes>"
      ]
     },
     "metadata": {
      "needs_background": "light"
     },
     "output_type": "display_data"
    },
    {
     "data": {
      "image/png": "[encoded data removed]",
      "text/plain": [
       "<Figure size 144x144 with 1 Axes>"
      ]
     },
     "metadata": {
      "needs_background": "light"
     },
     "output_type": "display_data"
    },
    {
     "data": {
      "image/png": "[encoded data removed]",
      "text/plain": [
       "<Figure size 144x144 with 1 Axes>"
      ]
     },
     "metadata": {
      "needs_background": "light"
     },
     "output_type": "display_data"
    },
    {
     "data": {
      "image/png": "[encoded data removed]",
      "text/plain": [
       "<Figure size 144x144 with 1 Axes>"
      ]
     },
     "metadata": {
      "needs_background": "light"
     },
     "output_type": "display_data"
    },
    {
     "data": {
      "image/png": "[encoded data removed]",
      "text/plain": [
       "<Figure size 144x144 with 1 Axes>"
      ]
     },
     "metadata": {
      "needs_background": "light"
     },
     "output_type": "display_data"
    },
    {
     "data": {
      "image/png": "[encoded data removed]",
      "text/plain": [
       "<Figure size 144x144 with 1 Axes>"
      ]
     },
     "metadata": {
      "needs_background": "light"
     },
     "output_type": "display_data"
    },
    {
     "data": {
      "image/png": "[encoded data removed]",
      "text/plain": [
       "<Figure size 144x144 with 1 Axes>"
      ]
     },
     "metadata": {
      "needs_background": "light"
     },
     "output_type": "display_data"
    },
    {
     "data": {
      "image/png": "[encoded data removed]",
      "text/plain": [
       "<Figure size 144x144 with 1 Axes>"
      ]
     },
     "metadata": {
      "needs_background": "light"
     },
     "output_type": "display_data"
    },
    {
     "data": {
      "image/png": "[encoded data removed]",
      "text/plain": [
       "<Figure size 144x144 with 1 Axes>"
      ]
     },
     "metadata": {
      "needs_background": "light"
     },
     "output_type": "display_data"
    },
    {
     "data": {
      "image/png": "[encoded data removed]",
      "text/plain": [
       "<Figure size 144x144 with 1 Axes>"
      ]
     },
     "metadata": {
      "needs_background": "light"
     },
     "output_type": "display_data"
    }
   ],
   "source": [
    "# filter by the cluster 0\n",
    "df_zero = df[df[\"target\"] == 2]\n",
    "for i in range(10):\n",
    "    plt.figure(figsize=(2, 2))\n",
    "    sns.heatmap(df_zero.iloc[i, :-2].values.reshape(8, 8), cmap=\"flare\", cbar=False)\n",
    "    plt.title(f\"Digit: {df_zero.iloc[i, -2]}, Cluster: {df_zero.iloc[i, -1]}\")\n",
    "    plt.show()"
   ]
  },
  {
   "cell_type": "code",
   "execution_count": 134,
   "metadata": {},
   "outputs": [
    {
     "name": "stdout",
     "output_type": "stream",
     "text": [
      "      cluster  target\n",
      "0           3       0\n",
      "1           7       1\n",
      "2           5       2\n",
      "3           0       3\n",
      "4           3       4\n",
      "...       ...     ...\n",
      "1792        1       9\n",
      "1793        2       0\n",
      "1794        1       8\n",
      "1795        7       9\n",
      "1796        5       8\n",
      "\n",
      "[1797 rows x 2 columns]\n"
     ]
    },
    {
     "data": {
      "image/png": "[encoded data removed]",
      "text/plain": [
       "<Figure size 144x144 with 1 Axes>"
      ]
     },
     "metadata": {
      "needs_background": "light"
     },
     "output_type": "display_data"
    },
    {
     "data": {
      "image/png": "[encoded data removed]",
      "text/plain": [
       "<Figure size 144x144 with 1 Axes>"
      ]
     },
     "metadata": {
      "needs_background": "light"
     },
     "output_type": "display_data"
    },
    {
     "data": {
      "image/png": "[encoded data removed]",
      "text/plain": [
       "<Figure size 144x144 with 1 Axes>"
      ]
     },
     "metadata": {
      "needs_background": "light"
     },
     "output_type": "display_data"
    },
    {
     "data": {
      "image/png": "[encoded data removed]",
      "text/plain": [
       "<Figure size 144x144 with 1 Axes>"
      ]
     },
     "metadata": {
      "needs_background": "light"
     },
     "output_type": "display_data"
    },
    {
     "data": {
      "image/png": "[encoded data removed]",
      "text/plain": [
       "<Figure size 144x144 with 1 Axes>"
      ]
     },
     "metadata": {
      "needs_background": "light"
     },
     "output_type": "display_data"
    },
    {
     "data": {
      "image/png": "[encoded data removed]",
      "text/plain": [
       "<Figure size 144x144 with 1 Axes>"
      ]
     },
     "metadata": {
      "needs_background": "light"
     },
     "output_type": "display_data"
    },
    {
     "data": {
      "image/png": "[encoded data removed]",
      "text/plain": [
       "<Figure size 144x144 with 1 Axes>"
      ]
     },
     "metadata": {
      "needs_background": "light"
     },
     "output_type": "display_data"
    },
    {
     "data": {
      "image/png": "[encoded data removed]",
      "text/plain": [
       "<Figure size 144x144 with 1 Axes>"
      ]
     },
     "metadata": {
      "needs_background": "light"
     },
     "output_type": "display_data"
    },
    {
     "data": {
      "image/png": "[encoded data removed]",
      "text/plain": [
       "<Figure size 144x144 with 1 Axes>"
      ]
     },
     "metadata": {
      "needs_background": "light"
     },
     "output_type": "display_data"
    },
    {
     "data": {
      "image/png": "[encoded data removed]",
      "text/plain": [
       "<Figure size 144x144 with 1 Axes>"
      ]
     },
     "metadata": {
      "needs_background": "light"
     },
     "output_type": "display_data"
    }
   ],
   "source": [
    "import matplotlib.pyplot as plt\n",
    "import seaborn as sns\n",
    "from sklearn.cluster import KMeans\n",
    "import numpy as np\n",
    "\n",
    "k = 8  # number of clusters\n",
    "\n",
    "# Extract columns for the specified indices\n",
    "indices = range(1, 64, 8)  # Columns like 0, 7, 15, ..., 63\n",
    "X = df.iloc[:, indices].values  # Get all rows and specified columns\n",
    "\n",
    "# Initialize and fit KMeans\n",
    "kmeans = KMeans(n_clusters=k)\n",
    "kmeans.fit(X)\n",
    "\n",
    "# Assign cluster labels to the original DataFrame\n",
    "df[\"cluster\"] = kmeans.labels_\n",
    "df_filter = df[df[\"target\"] == 2]\n",
    "\n",
    "print(df[[\"cluster\", \"target\"]])\n",
    "for i in range(10):\n",
    "    plt.figure(figsize=(2, 2))\n",
    "    sns.heatmap(df_filter.iloc[i, :-2].values.reshape(8, 8), cmap=\"flare\", cbar=False)\n",
    "    plt.title(f\"Digit: {df_filter.iloc[i, -2]}, Cluster: {df_filter.iloc[i, -1]}\")\n",
    "    plt.show()"
   ]
  },
  {
   "cell_type": "markdown",
   "metadata": {},
   "source": [
    "## Conclusiones \n",
    "A través de la actividad hemos podido observar y comprender el funcionamiento del algoritmo KMeans así como apreciar su eficacia y practicidad. Pudiendo ser capaz de comprender patrones de manera efectiva y pudiendo aplicarlo en un escenario practico a través del reconocimiento de patrones para poder clasificar objetos de manera efectiva. \n",
    "Comprender este tipo de métodos, aunque un poco alejado a lo usualmente visto en mi carrera profesional, ha terminado siendo muy importante para poder comprender una etapa y/o area más de las ciencias computacionales, y aunque si bien es posible que no le de una aplicación tan directa en un futuro cercano, ciertamente será una área que tendré en mente para la creación de nuevas soluciones creativas, con un enfoque en la innovación y el bienestar."
   ]
  },
  {
   "cell_type": "markdown",
   "metadata": {},
   "source": [
    "## Referencias \n",
    "- Scikit-learn developers. (n.d.). sklearn.datasets.load_digits. Scikit-learn. https://scikit-learn.org/stable/modules/generated/sklearn.datasets.load_digits.html\n",
    "- Waskom, M. (2024). Color palettes [Tutorial]. Seaborn. https://seaborn.pydata.org/tutorial/color_palettes.html\n",
    "- OpenAI. (2024, September 12). Response to inquiry about clustering data and visualization [ChatGPT conversation]. https://chatgpt.com/c/66e30f41-1784-8007-bc66-8f5481c96aa5\n"
   ]
  }
 ],
 "metadata": {
  "kernelspec": {
   "display_name": "Python 3",
   "language": "python",
   "name": "python3"
  },
  "language_info": {
   "codemirror_mode": {
    "name": "ipython",
    "version": 3
   },
   "file_extension": ".py",
   "mimetype": "text/x-python",
   "name": "python",
   "nbconvert_exporter": "python",
   "pygments_lexer": "ipython3",
   "version": "3.10.4"
  },
  "polyglot_notebook": {
   "kernelInfo": {
    "defaultKernelName": "csharp",
    "items": [
     {
      "aliases": [],
      "name": "csharp"
     }
    ]
   }
  }
 },
 "nbformat": 4,
 "nbformat_minor": 2
}
